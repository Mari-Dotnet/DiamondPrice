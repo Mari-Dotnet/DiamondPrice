{
 "cells": [
  {
   "attachments": {},
   "cell_type": "markdown",
   "id": "bbc2747d-b015-4d3b-abff-5f9d420df42f",
   "metadata": {},
   "source": [
    "## model Training"
   ]
  },
  {
   "cell_type": "code",
   "execution_count": 1,
   "id": "d4999514-51e2-41dc-a913-3682af0dfdf7",
   "metadata": {},
   "outputs": [],
   "source": [
    "import pandas as pd"
   ]
  },
  {
   "cell_type": "code",
   "execution_count": 2,
   "id": "e83e7c2f-3440-4cfe-bac7-b4fd518c5092",
   "metadata": {},
   "outputs": [
    {
     "data": {
      "text/html": [
       "<div>\n",
       "<style scoped>\n",
       "    .dataframe tbody tr th:only-of-type {\n",
       "        vertical-align: middle;\n",
       "    }\n",
       "\n",
       "    .dataframe tbody tr th {\n",
       "        vertical-align: top;\n",
       "    }\n",
       "\n",
       "    .dataframe thead th {\n",
       "        text-align: right;\n",
       "    }\n",
       "</style>\n",
       "<table border=\"1\" class=\"dataframe\">\n",
       "  <thead>\n",
       "    <tr style=\"text-align: right;\">\n",
       "      <th></th>\n",
       "      <th>id</th>\n",
       "      <th>carat</th>\n",
       "      <th>cut</th>\n",
       "      <th>color</th>\n",
       "      <th>clarity</th>\n",
       "      <th>depth</th>\n",
       "      <th>table</th>\n",
       "      <th>x</th>\n",
       "      <th>y</th>\n",
       "      <th>z</th>\n",
       "      <th>price</th>\n",
       "    </tr>\n",
       "  </thead>\n",
       "  <tbody>\n",
       "    <tr>\n",
       "      <th>0</th>\n",
       "      <td>0</td>\n",
       "      <td>1.52</td>\n",
       "      <td>Premium</td>\n",
       "      <td>F</td>\n",
       "      <td>VS2</td>\n",
       "      <td>62.2</td>\n",
       "      <td>58.0</td>\n",
       "      <td>7.27</td>\n",
       "      <td>7.33</td>\n",
       "      <td>4.55</td>\n",
       "      <td>13619</td>\n",
       "    </tr>\n",
       "    <tr>\n",
       "      <th>1</th>\n",
       "      <td>1</td>\n",
       "      <td>2.03</td>\n",
       "      <td>Very Good</td>\n",
       "      <td>J</td>\n",
       "      <td>SI2</td>\n",
       "      <td>62.0</td>\n",
       "      <td>58.0</td>\n",
       "      <td>8.06</td>\n",
       "      <td>8.12</td>\n",
       "      <td>5.05</td>\n",
       "      <td>13387</td>\n",
       "    </tr>\n",
       "    <tr>\n",
       "      <th>2</th>\n",
       "      <td>2</td>\n",
       "      <td>0.70</td>\n",
       "      <td>Ideal</td>\n",
       "      <td>G</td>\n",
       "      <td>VS1</td>\n",
       "      <td>61.2</td>\n",
       "      <td>57.0</td>\n",
       "      <td>5.69</td>\n",
       "      <td>5.73</td>\n",
       "      <td>3.50</td>\n",
       "      <td>2772</td>\n",
       "    </tr>\n",
       "    <tr>\n",
       "      <th>3</th>\n",
       "      <td>3</td>\n",
       "      <td>0.32</td>\n",
       "      <td>Ideal</td>\n",
       "      <td>G</td>\n",
       "      <td>VS1</td>\n",
       "      <td>61.6</td>\n",
       "      <td>56.0</td>\n",
       "      <td>4.38</td>\n",
       "      <td>4.41</td>\n",
       "      <td>2.71</td>\n",
       "      <td>666</td>\n",
       "    </tr>\n",
       "    <tr>\n",
       "      <th>4</th>\n",
       "      <td>4</td>\n",
       "      <td>1.70</td>\n",
       "      <td>Premium</td>\n",
       "      <td>G</td>\n",
       "      <td>VS2</td>\n",
       "      <td>62.6</td>\n",
       "      <td>59.0</td>\n",
       "      <td>7.65</td>\n",
       "      <td>7.61</td>\n",
       "      <td>4.77</td>\n",
       "      <td>14453</td>\n",
       "    </tr>\n",
       "  </tbody>\n",
       "</table>\n",
       "</div>"
      ],
      "text/plain": [
       "   id  carat        cut color clarity  depth  table     x     y     z  price\n",
       "0   0   1.52    Premium     F     VS2   62.2   58.0  7.27  7.33  4.55  13619\n",
       "1   1   2.03  Very Good     J     SI2   62.0   58.0  8.06  8.12  5.05  13387\n",
       "2   2   0.70      Ideal     G     VS1   61.2   57.0  5.69  5.73  3.50   2772\n",
       "3   3   0.32      Ideal     G     VS1   61.6   56.0  4.38  4.41  2.71    666\n",
       "4   4   1.70    Premium     G     VS2   62.6   59.0  7.65  7.61  4.77  14453"
      ]
     },
     "execution_count": 2,
     "metadata": {},
     "output_type": "execute_result"
    }
   ],
   "source": [
    "df=pd.read_csv('gemstone.csv')\n",
    "df.head()"
   ]
  },
  {
   "cell_type": "code",
   "execution_count": 6,
   "id": "4f7a0f29-2142-450b-8696-76f6cb13a7e1",
   "metadata": {},
   "outputs": [],
   "source": [
    "df=df.drop(labels='id',axis=1)"
   ]
  },
  {
   "cell_type": "code",
   "execution_count": 7,
   "id": "082a3730-334c-43a8-b599-1874e15634a1",
   "metadata": {},
   "outputs": [
    {
     "data": {
      "text/html": [
       "<div>\n",
       "<style scoped>\n",
       "    .dataframe tbody tr th:only-of-type {\n",
       "        vertical-align: middle;\n",
       "    }\n",
       "\n",
       "    .dataframe tbody tr th {\n",
       "        vertical-align: top;\n",
       "    }\n",
       "\n",
       "    .dataframe thead th {\n",
       "        text-align: right;\n",
       "    }\n",
       "</style>\n",
       "<table border=\"1\" class=\"dataframe\">\n",
       "  <thead>\n",
       "    <tr style=\"text-align: right;\">\n",
       "      <th></th>\n",
       "      <th>carat</th>\n",
       "      <th>cut</th>\n",
       "      <th>color</th>\n",
       "      <th>clarity</th>\n",
       "      <th>depth</th>\n",
       "      <th>table</th>\n",
       "      <th>x</th>\n",
       "      <th>y</th>\n",
       "      <th>z</th>\n",
       "      <th>price</th>\n",
       "    </tr>\n",
       "  </thead>\n",
       "  <tbody>\n",
       "    <tr>\n",
       "      <th>0</th>\n",
       "      <td>1.52</td>\n",
       "      <td>Premium</td>\n",
       "      <td>F</td>\n",
       "      <td>VS2</td>\n",
       "      <td>62.2</td>\n",
       "      <td>58.0</td>\n",
       "      <td>7.27</td>\n",
       "      <td>7.33</td>\n",
       "      <td>4.55</td>\n",
       "      <td>13619</td>\n",
       "    </tr>\n",
       "    <tr>\n",
       "      <th>1</th>\n",
       "      <td>2.03</td>\n",
       "      <td>Very Good</td>\n",
       "      <td>J</td>\n",
       "      <td>SI2</td>\n",
       "      <td>62.0</td>\n",
       "      <td>58.0</td>\n",
       "      <td>8.06</td>\n",
       "      <td>8.12</td>\n",
       "      <td>5.05</td>\n",
       "      <td>13387</td>\n",
       "    </tr>\n",
       "    <tr>\n",
       "      <th>2</th>\n",
       "      <td>0.70</td>\n",
       "      <td>Ideal</td>\n",
       "      <td>G</td>\n",
       "      <td>VS1</td>\n",
       "      <td>61.2</td>\n",
       "      <td>57.0</td>\n",
       "      <td>5.69</td>\n",
       "      <td>5.73</td>\n",
       "      <td>3.50</td>\n",
       "      <td>2772</td>\n",
       "    </tr>\n",
       "    <tr>\n",
       "      <th>3</th>\n",
       "      <td>0.32</td>\n",
       "      <td>Ideal</td>\n",
       "      <td>G</td>\n",
       "      <td>VS1</td>\n",
       "      <td>61.6</td>\n",
       "      <td>56.0</td>\n",
       "      <td>4.38</td>\n",
       "      <td>4.41</td>\n",
       "      <td>2.71</td>\n",
       "      <td>666</td>\n",
       "    </tr>\n",
       "    <tr>\n",
       "      <th>4</th>\n",
       "      <td>1.70</td>\n",
       "      <td>Premium</td>\n",
       "      <td>G</td>\n",
       "      <td>VS2</td>\n",
       "      <td>62.6</td>\n",
       "      <td>59.0</td>\n",
       "      <td>7.65</td>\n",
       "      <td>7.61</td>\n",
       "      <td>4.77</td>\n",
       "      <td>14453</td>\n",
       "    </tr>\n",
       "  </tbody>\n",
       "</table>\n",
       "</div>"
      ],
      "text/plain": [
       "   carat        cut color clarity  depth  table     x     y     z  price\n",
       "0   1.52    Premium     F     VS2   62.2   58.0  7.27  7.33  4.55  13619\n",
       "1   2.03  Very Good     J     SI2   62.0   58.0  8.06  8.12  5.05  13387\n",
       "2   0.70      Ideal     G     VS1   61.2   57.0  5.69  5.73  3.50   2772\n",
       "3   0.32      Ideal     G     VS1   61.6   56.0  4.38  4.41  2.71    666\n",
       "4   1.70    Premium     G     VS2   62.6   59.0  7.65  7.61  4.77  14453"
      ]
     },
     "execution_count": 7,
     "metadata": {},
     "output_type": "execute_result"
    }
   ],
   "source": [
    "df.head()"
   ]
  },
  {
   "cell_type": "code",
   "execution_count": 9,
   "id": "8e01b69e-09c5-443f-a607-f8c7cfc68bf8",
   "metadata": {},
   "outputs": [],
   "source": [
    "## split independent and dependet feature\n",
    "X=df.drop(labels='price',axis=1)\n",
    "y=df['price']"
   ]
  },
  {
   "cell_type": "code",
   "execution_count": 12,
   "id": "c64512bb-b936-4bfc-ad7e-9d3d5f2cd3c7",
   "metadata": {},
   "outputs": [
    {
     "data": {
      "text/html": [
       "<div>\n",
       "<style scoped>\n",
       "    .dataframe tbody tr th:only-of-type {\n",
       "        vertical-align: middle;\n",
       "    }\n",
       "\n",
       "    .dataframe tbody tr th {\n",
       "        vertical-align: top;\n",
       "    }\n",
       "\n",
       "    .dataframe thead th {\n",
       "        text-align: right;\n",
       "    }\n",
       "</style>\n",
       "<table border=\"1\" class=\"dataframe\">\n",
       "  <thead>\n",
       "    <tr style=\"text-align: right;\">\n",
       "      <th></th>\n",
       "      <th>carat</th>\n",
       "      <th>cut</th>\n",
       "      <th>color</th>\n",
       "      <th>clarity</th>\n",
       "      <th>depth</th>\n",
       "      <th>table</th>\n",
       "      <th>x</th>\n",
       "      <th>y</th>\n",
       "      <th>z</th>\n",
       "    </tr>\n",
       "  </thead>\n",
       "  <tbody>\n",
       "    <tr>\n",
       "      <th>0</th>\n",
       "      <td>1.52</td>\n",
       "      <td>Premium</td>\n",
       "      <td>F</td>\n",
       "      <td>VS2</td>\n",
       "      <td>62.2</td>\n",
       "      <td>58.0</td>\n",
       "      <td>7.27</td>\n",
       "      <td>7.33</td>\n",
       "      <td>4.55</td>\n",
       "    </tr>\n",
       "    <tr>\n",
       "      <th>1</th>\n",
       "      <td>2.03</td>\n",
       "      <td>Very Good</td>\n",
       "      <td>J</td>\n",
       "      <td>SI2</td>\n",
       "      <td>62.0</td>\n",
       "      <td>58.0</td>\n",
       "      <td>8.06</td>\n",
       "      <td>8.12</td>\n",
       "      <td>5.05</td>\n",
       "    </tr>\n",
       "    <tr>\n",
       "      <th>2</th>\n",
       "      <td>0.70</td>\n",
       "      <td>Ideal</td>\n",
       "      <td>G</td>\n",
       "      <td>VS1</td>\n",
       "      <td>61.2</td>\n",
       "      <td>57.0</td>\n",
       "      <td>5.69</td>\n",
       "      <td>5.73</td>\n",
       "      <td>3.50</td>\n",
       "    </tr>\n",
       "    <tr>\n",
       "      <th>3</th>\n",
       "      <td>0.32</td>\n",
       "      <td>Ideal</td>\n",
       "      <td>G</td>\n",
       "      <td>VS1</td>\n",
       "      <td>61.6</td>\n",
       "      <td>56.0</td>\n",
       "      <td>4.38</td>\n",
       "      <td>4.41</td>\n",
       "      <td>2.71</td>\n",
       "    </tr>\n",
       "    <tr>\n",
       "      <th>4</th>\n",
       "      <td>1.70</td>\n",
       "      <td>Premium</td>\n",
       "      <td>G</td>\n",
       "      <td>VS2</td>\n",
       "      <td>62.6</td>\n",
       "      <td>59.0</td>\n",
       "      <td>7.65</td>\n",
       "      <td>7.61</td>\n",
       "      <td>4.77</td>\n",
       "    </tr>\n",
       "    <tr>\n",
       "      <th>...</th>\n",
       "      <td>...</td>\n",
       "      <td>...</td>\n",
       "      <td>...</td>\n",
       "      <td>...</td>\n",
       "      <td>...</td>\n",
       "      <td>...</td>\n",
       "      <td>...</td>\n",
       "      <td>...</td>\n",
       "      <td>...</td>\n",
       "    </tr>\n",
       "    <tr>\n",
       "      <th>193568</th>\n",
       "      <td>0.31</td>\n",
       "      <td>Ideal</td>\n",
       "      <td>D</td>\n",
       "      <td>VVS2</td>\n",
       "      <td>61.1</td>\n",
       "      <td>56.0</td>\n",
       "      <td>4.35</td>\n",
       "      <td>4.39</td>\n",
       "      <td>2.67</td>\n",
       "    </tr>\n",
       "    <tr>\n",
       "      <th>193569</th>\n",
       "      <td>0.70</td>\n",
       "      <td>Premium</td>\n",
       "      <td>G</td>\n",
       "      <td>VVS2</td>\n",
       "      <td>60.3</td>\n",
       "      <td>58.0</td>\n",
       "      <td>5.75</td>\n",
       "      <td>5.77</td>\n",
       "      <td>3.47</td>\n",
       "    </tr>\n",
       "    <tr>\n",
       "      <th>193570</th>\n",
       "      <td>0.73</td>\n",
       "      <td>Very Good</td>\n",
       "      <td>F</td>\n",
       "      <td>SI1</td>\n",
       "      <td>63.1</td>\n",
       "      <td>57.0</td>\n",
       "      <td>5.72</td>\n",
       "      <td>5.75</td>\n",
       "      <td>3.62</td>\n",
       "    </tr>\n",
       "    <tr>\n",
       "      <th>193571</th>\n",
       "      <td>0.34</td>\n",
       "      <td>Very Good</td>\n",
       "      <td>D</td>\n",
       "      <td>SI1</td>\n",
       "      <td>62.9</td>\n",
       "      <td>55.0</td>\n",
       "      <td>4.45</td>\n",
       "      <td>4.49</td>\n",
       "      <td>2.81</td>\n",
       "    </tr>\n",
       "    <tr>\n",
       "      <th>193572</th>\n",
       "      <td>0.71</td>\n",
       "      <td>Good</td>\n",
       "      <td>E</td>\n",
       "      <td>SI2</td>\n",
       "      <td>60.8</td>\n",
       "      <td>64.0</td>\n",
       "      <td>5.73</td>\n",
       "      <td>5.71</td>\n",
       "      <td>3.48</td>\n",
       "    </tr>\n",
       "  </tbody>\n",
       "</table>\n",
       "<p>193573 rows × 9 columns</p>\n",
       "</div>"
      ],
      "text/plain": [
       "        carat        cut color clarity  depth  table     x     y     z\n",
       "0        1.52    Premium     F     VS2   62.2   58.0  7.27  7.33  4.55\n",
       "1        2.03  Very Good     J     SI2   62.0   58.0  8.06  8.12  5.05\n",
       "2        0.70      Ideal     G     VS1   61.2   57.0  5.69  5.73  3.50\n",
       "3        0.32      Ideal     G     VS1   61.6   56.0  4.38  4.41  2.71\n",
       "4        1.70    Premium     G     VS2   62.6   59.0  7.65  7.61  4.77\n",
       "...       ...        ...   ...     ...    ...    ...   ...   ...   ...\n",
       "193568   0.31      Ideal     D    VVS2   61.1   56.0  4.35  4.39  2.67\n",
       "193569   0.70    Premium     G    VVS2   60.3   58.0  5.75  5.77  3.47\n",
       "193570   0.73  Very Good     F     SI1   63.1   57.0  5.72  5.75  3.62\n",
       "193571   0.34  Very Good     D     SI1   62.9   55.0  4.45  4.49  2.81\n",
       "193572   0.71       Good     E     SI2   60.8   64.0  5.73  5.71  3.48\n",
       "\n",
       "[193573 rows x 9 columns]"
      ]
     },
     "execution_count": 12,
     "metadata": {},
     "output_type": "execute_result"
    }
   ],
   "source": [
    "X"
   ]
  },
  {
   "cell_type": "code",
   "execution_count": 17,
   "id": "fe0620de-fc34-4db3-a72a-60371ab9ab41",
   "metadata": {},
   "outputs": [],
   "source": [
    "## define numerical and categorical column\n",
    "categorical_column=X.select_dtypes(include='object').columns\n",
    "numerical_column=X.select_dtypes(exclude='object').columns"
   ]
  },
  {
   "cell_type": "code",
   "execution_count": 18,
   "id": "147076cf-2999-42ca-9531-fc7a0fbed827",
   "metadata": {},
   "outputs": [
    {
     "data": {
      "text/plain": [
       "Index(['carat', 'depth', 'table', 'x', 'y', 'z'], dtype='object')"
      ]
     },
     "execution_count": 18,
     "metadata": {},
     "output_type": "execute_result"
    }
   ],
   "source": [
    "numerical_column"
   ]
  },
  {
   "cell_type": "code",
   "execution_count": 19,
   "id": "bbb43550-047c-459e-ad8f-e2cd79119344",
   "metadata": {},
   "outputs": [
    {
     "data": {
      "text/plain": [
       "Index(['cut', 'color', 'clarity'], dtype='object')"
      ]
     },
     "execution_count": 19,
     "metadata": {},
     "output_type": "execute_result"
    }
   ],
   "source": [
    "categorical_column"
   ]
  },
  {
   "cell_type": "code",
   "execution_count": 54,
   "id": "c4189af4-2dd5-4c12-92a4-f550ac179695",
   "metadata": {},
   "outputs": [],
   "source": [
    "cut_map=['Fair','Good','Very Good','Premium','Ideal']\n",
    "clarity_map=['I1','SI2','SI1','VS2','VS1','VVS2','VVS1','IF']\n",
    "color_map=['D','E','F','G','H','I','J']"
   ]
  },
  {
   "cell_type": "code",
   "execution_count": 44,
   "id": "6335b8cc-552f-448c-8fc4-4d3cfe1fc2a2",
   "metadata": {},
   "outputs": [
    {
     "data": {
      "text/plain": [
       "array(['F', 'J', 'G', 'E', 'D', 'H', 'I'], dtype=object)"
      ]
     },
     "execution_count": 44,
     "metadata": {},
     "output_type": "execute_result"
    }
   ],
   "source": [
    "df.color.unique()"
   ]
  },
  {
   "cell_type": "code",
   "execution_count": 55,
   "id": "62ba0ec1-53a0-42d1-91e5-3851d2ab5cce",
   "metadata": {},
   "outputs": [],
   "source": [
    "##preprocessing\n",
    "from sklearn.preprocessing import StandardScaler\n",
    "from sklearn.preprocessing import OrdinalEncoder\n",
    "from sklearn.impute import SimpleImputer"
   ]
  },
  {
   "cell_type": "code",
   "execution_count": 56,
   "id": "8f28f771-b465-4852-a659-fb0408b7d60e",
   "metadata": {},
   "outputs": [],
   "source": [
    "##  pipeline\n",
    "from sklearn.pipeline import Pipeline\n",
    "from sklearn.compose import ColumnTransformer"
   ]
  },
  {
   "cell_type": "code",
   "execution_count": 58,
   "id": "07c993bd-1b93-42e3-8e43-5f8c32c1c019",
   "metadata": {},
   "outputs": [],
   "source": [
    "numpipeline=Pipeline(\n",
    "    steps=[\n",
    "    ('SimpleImputer',SimpleImputer(strategy='median')),\n",
    "    ('scaler',StandardScaler())\n",
    "    ]\n",
    ")\n",
    "\n",
    "## categorical pipeline\n",
    "catepipeline=Pipeline(\n",
    "    steps=[\n",
    "        ('SimpleImputer',SimpleImputer(strategy='most_frequent')),\n",
    "        ('OrdinalEncoder',OrdinalEncoder(categories=[cut_map,color_map,clarity_map])),\n",
    "        ('scaler',StandardScaler())       \n",
    "    ]\n",
    ")"
   ]
  },
  {
   "cell_type": "code",
   "execution_count": 59,
   "id": "5e963941-80bb-45b5-b6fc-51522aeffa81",
   "metadata": {},
   "outputs": [],
   "source": [
    "##columnabs tranfer\n",
    "preprocessor=ColumnTransformer([\n",
    "('numpipeline',numpipeline,numerical_column),\n",
    "('catepipeline',catepipeline,categorical_column)\n",
    "])"
   ]
  },
  {
   "cell_type": "code",
   "execution_count": 36,
   "id": "8fa1a51a-8a31-4aea-b7a1-6971c6ea5d83",
   "metadata": {},
   "outputs": [
    {
     "data": {
      "text/plain": [
       "Index(['cut', 'color', 'clarity'], dtype='object')"
      ]
     },
     "execution_count": 36,
     "metadata": {},
     "output_type": "execute_result"
    }
   ],
   "source": [
    "categorical_column"
   ]
  },
  {
   "cell_type": "code",
   "execution_count": 30,
   "id": "5dd5388f-e446-491c-a294-8117cbb92f30",
   "metadata": {},
   "outputs": [],
   "source": [
    "#train test split\n",
    "from sklearn.model_selection import train_test_split"
   ]
  },
  {
   "cell_type": "code",
   "execution_count": 111,
   "id": "d80aecd2-d3d3-43bb-b7f0-20276a402d09",
   "metadata": {},
   "outputs": [],
   "source": [
    "X_train, X_test, y_train, y_test = train_test_split(X, y, test_size=0.30, random_state=42)"
   ]
  },
  {
   "cell_type": "code",
   "execution_count": null,
   "id": "84140b23-8554-4ea5-a775-f3ccef9b3cb8",
   "metadata": {},
   "outputs": [],
   "source": [
    "X_train=pd.DataFrame(preprocessor.fit_transform(X_train),columns=preprocessor.get_feature_names_out())\n",
    "X_test=pd.DataFrame( preprocessor.fit_transform(X_test),columns='price')"
   ]
  },
  {
   "cell_type": "code",
   "execution_count": 112,
   "id": "241803c6-8662-440e-9d59-8148562a0770",
   "metadata": {},
   "outputs": [],
   "source": [
    "X_train=preprocessor.fit_transform(X_train)\n",
    "X_test=preprocessor.transform(X_test)"
   ]
  },
  {
   "cell_type": "code",
   "execution_count": 113,
   "id": "afc80f44-753d-4578-b6c1-901423c821d4",
   "metadata": {},
   "outputs": [
    {
     "data": {
      "text/plain": [
       "array([[-0.82314374, -1.12998781, -0.64189666, ...,  0.87410007,\n",
       "        -0.93674681,  1.35074594],\n",
       "       [ 0.94502267, -1.77782269,  0.92190185, ..., -1.13764403,\n",
       "         0.91085333,  0.68445511],\n",
       "       [ 1.9584839 ,  0.16568195,  0.40063568, ..., -0.13177198,\n",
       "         0.91085333,  0.01816428],\n",
       "       ...,\n",
       "       [ 0.92345966,  0.90606467,  0.40063568, ..., -0.13177198,\n",
       "         0.29498662,  0.01816428],\n",
       "       [-1.03877378, -0.66724861, -0.64189666, ..., -1.13764403,\n",
       "         0.29498662,  2.01703677],\n",
       "       [-1.03877378, -0.01941373,  0.92190185, ..., -1.13764403,\n",
       "         0.29498662, -1.31441737]])"
      ]
     },
     "execution_count": 113,
     "metadata": {},
     "output_type": "execute_result"
    }
   ],
   "source": [
    "X_train"
   ]
  },
  {
   "cell_type": "code",
   "execution_count": 114,
   "id": "20f6806e-ae88-4bc7-91ec-c1fcc3946a89",
   "metadata": {},
   "outputs": [
    {
     "data": {
      "text/plain": [
       "array([[-0.62907669,  0.25822979, -0.12063049, ...,  0.87410007,\n",
       "        -1.55261352, -0.64812655],\n",
       "       [ 2.60537405, -2.14801405, -0.12063049, ..., -1.13764403,\n",
       "         0.29498662, -1.31441737],\n",
       "       [-1.1250258 , -1.22253565,  0.92190185, ..., -0.13177198,\n",
       "        -0.93674681,  2.01703677],\n",
       "       ...,\n",
       "       [-0.82314374, -0.01941373, -0.64189666, ...,  0.87410007,\n",
       "         0.29498662,  2.01703677],\n",
       "       [ 0.90189666, -0.66724861,  1.44316802, ..., -0.13177198,\n",
       "         1.52672004, -0.64812655],\n",
       "       [ 0.47063656,  0.90606467, -0.64189666, ..., -1.13764403,\n",
       "        -0.93674681,  0.01816428]])"
      ]
     },
     "execution_count": 114,
     "metadata": {},
     "output_type": "execute_result"
    }
   ],
   "source": [
    "X_test"
   ]
  },
  {
   "cell_type": "code",
   "execution_count": 115,
   "id": "6df99f85-660d-402d-8427-8a179705fbaa",
   "metadata": {},
   "outputs": [],
   "source": [
    "## model training\n",
    "from sklearn.linear_model import LinearRegression,Ridge,Lasso,ElasticNet\n",
    "from sklearn.metrics import r2_score,mean_absolute_error,mean_squared_error"
   ]
  },
  {
   "cell_type": "code",
   "execution_count": 116,
   "id": "2ac9d878-2222-403f-8665-3be379af539d",
   "metadata": {},
   "outputs": [],
   "source": [
    "model=LinearRegression()"
   ]
  },
  {
   "cell_type": "code",
   "execution_count": 117,
   "id": "6e1bd460-c651-42fc-a428-977f7b84a953",
   "metadata": {},
   "outputs": [
    {
     "data": {
      "text/plain": [
       "LinearRegression()"
      ]
     },
     "execution_count": 117,
     "metadata": {},
     "output_type": "execute_result"
    }
   ],
   "source": [
    "model.fit(X_train,y_train)"
   ]
  },
  {
   "cell_type": "code",
   "execution_count": 118,
   "id": "c833db9f-1e7b-4e10-86f5-90658dc9a1c2",
   "metadata": {},
   "outputs": [
    {
     "data": {
      "text/plain": [
       "array([ 6432.97591819,  -132.34206204,   -70.48787525, -1701.38593925,\n",
       "        -494.17005097,   -76.32351645,    68.80035873,  -464.67990411,\n",
       "         652.10059539])"
      ]
     },
     "execution_count": 118,
     "metadata": {},
     "output_type": "execute_result"
    }
   ],
   "source": [
    "model.coef_"
   ]
  },
  {
   "cell_type": "code",
   "execution_count": 127,
   "id": "38c72a31-68e2-493f-8201-72b5bd7fcf09",
   "metadata": {},
   "outputs": [],
   "source": [
    "model={\n",
    "    'Linear':LinearRegression(),\n",
    "    'Ridge':Ridge(),\n",
    "    'Lasso':Lasso(),\n",
    "    'ElasticNet':ElasticNet()\n",
    "}"
   ]
  },
  {
   "cell_type": "code",
   "execution_count": 128,
   "id": "78ae3f01-c57e-471e-bcf4-ed90fca34367",
   "metadata": {},
   "outputs": [],
   "source": [
    "def evaulatemetrics(X_train,X_test,y_train,y_test,models):\n",
    "    result={}\n",
    "    for i in range(len(models)):\n",
    "        model=list(models.values())[i]\n",
    "        model.fit(X_train,y_train)\n",
    "        ##predict\n",
    "        y_predict=model.predict(X_test)\n",
    "        \n",
    "        mae=mean_absolute_error(y_test,y_predict)\n",
    "        mse=mean_squared_error(y_test,y_predict)\n",
    "        r2score=r2_score(y_test,y_predict)\n",
    "        result[list(models.keys())[i]]={'Mae':mae,'mse':mse,'r2score':r2score}\n",
    "    return result"
   ]
  },
  {
   "cell_type": "code",
   "execution_count": 129,
   "id": "753098e0-2a30-44c7-ae99-910bb66983c7",
   "metadata": {},
   "outputs": [
    {
     "data": {
      "text/plain": [
       "{'Linear': {'Mae': 675.0758270067445,\n",
       "  'mse': 1029473.3531156889,\n",
       "  'r2score': 0.9362906819996045},\n",
       " 'Ridge': {'Mae': 675.1077629781488,\n",
       "  'mse': 1029482.8101268989,\n",
       "  'r2score': 0.936290096749163},\n",
       " 'Lasso': {'Mae': 676.2421173665508,\n",
       "  'mse': 1029533.1506505491,\n",
       "  'r2score': 0.9362869814082755},\n",
       " 'ElasticNet': {'Mae': 1060.9432977143008,\n",
       "  'mse': 2351174.871397875,\n",
       "  'r2score': 0.8544967219374031}}"
      ]
     },
     "execution_count": 129,
     "metadata": {},
     "output_type": "execute_result"
    }
   ],
   "source": [
    "evaulatemetrics(X_train,X_test,y_train,y_test,model)"
   ]
  },
  {
   "cell_type": "code",
   "execution_count": null,
   "id": "9c0a93cf-ee94-446d-853f-4d992fef8cf5",
   "metadata": {},
   "outputs": [],
   "source": []
  }
 ],
 "metadata": {
  "kernelspec": {
   "display_name": "Python 3 (ipykernel)",
   "language": "python",
   "name": "python3"
  },
  "language_info": {
   "codemirror_mode": {
    "name": "ipython",
    "version": 3
   },
   "file_extension": ".py",
   "mimetype": "text/x-python",
   "name": "python",
   "nbconvert_exporter": "python",
   "pygments_lexer": "ipython3",
   "version": "3.9.12"
  }
 },
 "nbformat": 4,
 "nbformat_minor": 5
}
